{
 "cells": [
  {
   "cell_type": "markdown",
   "metadata": {
    "toc": true
   },
   "source": [
    "<h1>Tabla de Contenidos<span class=\"tocSkip\"></span></h1>\n",
    "<div class=\"toc\"><ul class=\"toc-item\"><li><span><a href=\"#Introducción\" data-toc-modified-id=\"Introducción-2\">Introducción</a></span><ul class=\"toc-item\"><li><span><a href=\"#Estrategia\" data-toc-modified-id=\"Estrategia-2.1\">Estrategia</a></span></li><li><span><a href=\"#Inicialización\" data-toc-modified-id=\"Inicialización-2.2\">Inicialización</a></span></li><li><span><a href=\"#Cargar-los-datos\" data-toc-modified-id=\"Cargar-los-datos-2.3\">Cargar los datos</a></span></li><li><span><a href=\"#Explorar-datos-iniciales\" data-toc-modified-id=\"Explorar-datos-iniciales-2.4\">Explorar datos iniciales</a></span></li></ul></li><li><span><a href=\"#Segmentar-los-datos\" data-toc-modified-id=\"Segmentar-los-datos-3\">Segmentar los datos</a></span></li><li><span><a href=\"#Probar-diferentes-modelos\" data-toc-modified-id=\"Probar-diferentes-modelos-4\">Probar diferentes modelos</a></span><ul class=\"toc-item\"><li><span><a href=\"#Árbol-de-decisiones\" data-toc-modified-id=\"Árbol-de-decisiones-4.1\">Árbol de decisiones</a></span></li><li><span><a href=\"#Bosque-aleatorio\" data-toc-modified-id=\"Bosque-aleatorio-4.2\">Bosque aleatorio</a></span></li><li><span><a href=\"#Regresión-logística\" data-toc-modified-id=\"Regresión-logística-4.3\">Regresión logística</a></span></li></ul></li><li><span><a href=\"#Comprobar-la-calidad-del-modelo\" data-toc-modified-id=\"Comprobar-la-calidad-del-modelo-5\">Comprobar la calidad del modelo</a></span><ul class=\"toc-item\"><li><span><a href=\"#Prueba-de-cordura-del-modelo\" data-toc-modified-id=\"Prueba-de-cordura-del-modelo-5.1\">Prueba de cordura del modelo</a></span></li></ul></li><li><span><a href=\"#Conclusiones-generales\" data-toc-modified-id=\"Conclusiones-generales-6\">Conclusiones generales</a></span></li></ul></div>"
   ]
  },
  {
   "cell_type": "markdown",
   "metadata": {},
   "source": [
    "# Introducción\n",
    "\n",
    "La compañía Megaline quiere desarrollar un modelo que pueda analizar el comportamiento de los clientes y recomendar uno de los nuevos planes de Megaline: Smart o Ultra."
   ]
  },
  {
   "cell_type": "markdown",
   "metadata": {},
   "source": [
    "## Estrategia\n",
    "\n",
    "Durante este proyecto se propbarán tres tipos de modelos de clasificación de machine learning de la librería `scikit-learn`. Estos modelos serán:\n",
    "   - Árbol de decisiones (`DecisionTreeClassifier`)\n",
    "   - Bosque aleatorio (`RandomForestClassifier`)\n",
    "   - Regresión logística (`LogisticRegression`)\n",
    "    \n",
    "**Selección del mejor modelo**\n",
    "\n",
    "Se probarán distintos valores de los hiperparámetros hasta encontrar el ajuste que arroje una puntuación más alta en la prueba de _accuracy_. De los tres modelos probados, se elegirá aquel modelo con mayor exactitud."
   ]
  },
  {
   "cell_type": "markdown",
   "metadata": {},
   "source": [
    "## Inicialización\n",
    "\n",
    "Para iniciar el proyecto, en primer lugar cargaremos las librerías que necesitaremos para la creación y entrenamiento del modelo, así como la librería `pandas` para manejar los DataFrames."
   ]
  },
  {
   "cell_type": "code",
   "execution_count": 2,
   "metadata": {},
   "outputs": [],
   "source": [
    "# Carga las librerías\n",
    "\n",
    "import pandas as pd\n",
    "from sklearn.model_selection import train_test_split\n",
    "from sklearn.tree import DecisionTreeClassifier\n",
    "from sklearn.ensemble import RandomForestClassifier\n",
    "from sklearn.linear_model import LogisticRegression\n",
    "from sklearn.metrics import accuracy_score"
   ]
  },
  {
   "cell_type": "markdown",
   "metadata": {},
   "source": [
    "## Cargar los datos\n",
    "\n",
    "Para este proyecto contamos con los datos de comportamiento de los suscriptores que ya se han cambiado a los planes nuevos."
   ]
  },
  {
   "cell_type": "code",
   "execution_count": 3,
   "metadata": {},
   "outputs": [],
   "source": [
    "# Carga los datos\n",
    "\n",
    "try:\n",
    "    users_behavior = pd.read_csv('users_behavior.csv')\n",
    "except:\n",
    "    users_behavior = pd.read_csv('/datasets/users_behavior.csv')"
   ]
  },
  {
   "cell_type": "markdown",
   "metadata": {},
   "source": [
    "## Explorar datos iniciales\n",
    "\n",
    "El DataFrame contiene los siguientes datos:\n",
    "\n",
    " - `calls` - número de llamadas.\n",
    " - `minutes` - duración total de la llamada en minutos.\n",
    " - `messages` - número de mensajes de texto.\n",
    " - `mb_used` - tráfico de Internet utilizado en MB.\n",
    " - `is_ultra` - plan del mes actual (Ultra - 1, Smart - 0)."
   ]
  },
  {
   "cell_type": "code",
   "execution_count": 4,
   "metadata": {},
   "outputs": [
    {
     "name": "stdout",
     "output_type": "stream",
     "text": [
      "<class 'pandas.core.frame.DataFrame'>\n",
      "RangeIndex: 3214 entries, 0 to 3213\n",
      "Data columns (total 5 columns):\n",
      " #   Column    Non-Null Count  Dtype  \n",
      "---  ------    --------------  -----  \n",
      " 0   calls     3214 non-null   float64\n",
      " 1   minutes   3214 non-null   float64\n",
      " 2   messages  3214 non-null   float64\n",
      " 3   mb_used   3214 non-null   float64\n",
      " 4   is_ultra  3214 non-null   int64  \n",
      "dtypes: float64(4), int64(1)\n",
      "memory usage: 125.7 KB\n"
     ]
    }
   ],
   "source": [
    "# Imprime información general del DataFrame\n",
    "users_behavior.info()"
   ]
  },
  {
   "cell_type": "code",
   "execution_count": 5,
   "metadata": {},
   "outputs": [
    {
     "data": {
      "text/html": [
       "<div>\n",
       "<style scoped>\n",
       "    .dataframe tbody tr th:only-of-type {\n",
       "        vertical-align: middle;\n",
       "    }\n",
       "\n",
       "    .dataframe tbody tr th {\n",
       "        vertical-align: top;\n",
       "    }\n",
       "\n",
       "    .dataframe thead th {\n",
       "        text-align: right;\n",
       "    }\n",
       "</style>\n",
       "<table border=\"1\" class=\"dataframe\">\n",
       "  <thead>\n",
       "    <tr style=\"text-align: right;\">\n",
       "      <th></th>\n",
       "      <th>calls</th>\n",
       "      <th>minutes</th>\n",
       "      <th>messages</th>\n",
       "      <th>mb_used</th>\n",
       "      <th>is_ultra</th>\n",
       "    </tr>\n",
       "  </thead>\n",
       "  <tbody>\n",
       "    <tr>\n",
       "      <th>0</th>\n",
       "      <td>40.0</td>\n",
       "      <td>311.90</td>\n",
       "      <td>83.0</td>\n",
       "      <td>19915.42</td>\n",
       "      <td>0</td>\n",
       "    </tr>\n",
       "    <tr>\n",
       "      <th>1</th>\n",
       "      <td>85.0</td>\n",
       "      <td>516.75</td>\n",
       "      <td>56.0</td>\n",
       "      <td>22696.96</td>\n",
       "      <td>0</td>\n",
       "    </tr>\n",
       "    <tr>\n",
       "      <th>2</th>\n",
       "      <td>77.0</td>\n",
       "      <td>467.66</td>\n",
       "      <td>86.0</td>\n",
       "      <td>21060.45</td>\n",
       "      <td>0</td>\n",
       "    </tr>\n",
       "    <tr>\n",
       "      <th>3</th>\n",
       "      <td>106.0</td>\n",
       "      <td>745.53</td>\n",
       "      <td>81.0</td>\n",
       "      <td>8437.39</td>\n",
       "      <td>1</td>\n",
       "    </tr>\n",
       "    <tr>\n",
       "      <th>4</th>\n",
       "      <td>66.0</td>\n",
       "      <td>418.74</td>\n",
       "      <td>1.0</td>\n",
       "      <td>14502.75</td>\n",
       "      <td>0</td>\n",
       "    </tr>\n",
       "  </tbody>\n",
       "</table>\n",
       "</div>"
      ],
      "text/plain": [
       "   calls  minutes  messages   mb_used  is_ultra\n",
       "0   40.0   311.90      83.0  19915.42         0\n",
       "1   85.0   516.75      56.0  22696.96         0\n",
       "2   77.0   467.66      86.0  21060.45         0\n",
       "3  106.0   745.53      81.0   8437.39         1\n",
       "4   66.0   418.74       1.0  14502.75         0"
      ]
     },
     "execution_count": 5,
     "metadata": {},
     "output_type": "execute_result"
    }
   ],
   "source": [
    "# Imprime una muestra de los datos\n",
    "\n",
    "users_behavior.head()"
   ]
  },
  {
   "cell_type": "markdown",
   "metadata": {},
   "source": [
    "# Segmentar los datos\n",
    "\n",
    "En esta parte del proyecto segmentaremos los datos en un conjunto de entrenamiento, un conjunto de validación y otro de prueba."
   ]
  },
  {
   "cell_type": "code",
   "execution_count": 6,
   "metadata": {},
   "outputs": [],
   "source": [
    "# Definimos las características y el objetivo\n",
    "# Este será el conjunto de prueba\n",
    "\n",
    "features = users_behavior.drop(['is_ultra'], axis=1)\n",
    "target = users_behavior['is_ultra']\n",
    "\n",
    "# Segmentamos los datos en un conjunto de entrenamiento y uno de validación\n",
    "\n",
    "features_train, features_valid, target_train, target_valid = train_test_split(\n",
    "    features, target, test_size=0.40, random_state=12345)\n",
    "\n",
    "# Segmentamos el conjunto de validación para obtener el conjunto de prueba \n",
    "features_valid, features_test, target_valid, target_test = train_test_split(\n",
    "    features_valid, target_valid, test_size=0.50, random_state=12345)"
   ]
  },
  {
   "cell_type": "markdown",
   "metadata": {},
   "source": [
    "Para la segmentación de los conjuntos de datos se ha dividido el conjunto principal en una proporción 60%-40% y a su vez, el conjunto de validación lo hemos dividido con una proporción 50%-50% para obtener el conjunto de prueba."
   ]
  },
  {
   "cell_type": "code",
   "execution_count": 7,
   "metadata": {},
   "outputs": [
    {
     "name": "stdout",
     "output_type": "stream",
     "text": [
      "Tamaño total del dataset: (3214, 5)\n",
      "\n",
      "Tamaño de features_train: (1928, 4)\n",
      "Tamaño de features_valid: (643, 4)\n",
      "Tamaño de features_test: (643, 4)\n",
      "Tamaño de target_train: (1928,)\n",
      "Tamaño de target_valid: (643,)\n",
      "Tamaño de target_test: (643,)\n"
     ]
    }
   ],
   "source": [
    "# Comprobamos el tamaño de los conjuntos de datos\n",
    "\n",
    "print('Tamaño total del dataset:', users_behavior.shape)\n",
    "print()\n",
    "print('Tamaño de features_train:', features_train.shape)\n",
    "print('Tamaño de features_valid:', features_valid.shape)\n",
    "print('Tamaño de features_test:', features_test.shape)\n",
    "print('Tamaño de target_train:', target_train.shape)\n",
    "print('Tamaño de target_valid:', target_valid.shape)\n",
    "print('Tamaño de target_test:', target_test.shape)"
   ]
  },
  {
   "cell_type": "markdown",
   "metadata": {},
   "source": [
    "# Probar diferentes modelos\n",
    "\n",
    "Con los datos segmentados, en esta parte investigaremos diferentes modelos de clasificación binaria, haciendo pruebas con diferentes hiperparámetros para encontrar el modelo resultados más exactos."
   ]
  },
  {
   "cell_type": "markdown",
   "metadata": {},
   "source": [
    "## Árbol de decisiones\n",
    "\n",
    "Comenzaremos probando un modelo de árbol de decisiones. Para este modelo probaremos con distintos valores en el parámetro `max_depth`."
   ]
  },
  {
   "cell_type": "code",
   "execution_count": 8,
   "metadata": {},
   "outputs": [
    {
     "name": "stdout",
     "output_type": "stream",
     "text": [
      "Exactitud del mejor modelo en el conjunto de validación (depth = 3): 0.7853810264385692\n"
     ]
    }
   ],
   "source": [
    "tree_best_score = 0\n",
    "tree_best_depth = 0\n",
    "\n",
    "# Prueba diferentes valores de profundidad del árbol de decisiones desde 1 nodo hasta 10 nodos\n",
    "for depth in range(1, 11):\n",
    "    tree_model = DecisionTreeClassifier(max_depth=depth, random_state=12345)\n",
    "    tree_model.fit(features_train, target_train)\n",
    "    \n",
    "    score = tree_model.score(features_valid, target_valid)\n",
    "    \n",
    "    if score > tree_best_score:\n",
    "        tree_best_score = score\n",
    "        tree_best_depth = depth\n",
    "\n",
    "print(\"Exactitud del mejor modelo en el conjunto de validación (depth = {}): {}\".format(\n",
    "    tree_best_depth, tree_best_score))"
   ]
  },
  {
   "cell_type": "markdown",
   "metadata": {},
   "source": [
    "**Hallazgos**\n",
    "\n",
    "Tras varias pruebas con distintos rangos de valores en el parámetro `max_depth` para un modelo de árbol de decisiones, obtenemos la mejor puntuación con un valor de profundidad de 3 nodos."
   ]
  },
  {
   "cell_type": "markdown",
   "metadata": {},
   "source": [
    "## Bosque aleatorio\n",
    "\n",
    "El siguiente modelo que probaremos será un modelo de bosque aleatorio. En este modelo realizaremos pruebas ajustando la profundidad de los árboles (`max_depth`) y el número de estimadores (`n_estimators`)."
   ]
  },
  {
   "cell_type": "code",
   "execution_count": 9,
   "metadata": {},
   "outputs": [
    {
     "name": "stdout",
     "output_type": "stream",
     "text": [
      "Exactitud del mejor modelo en el conjunto de validación (n_estimators = 40 y depth = 8): 0.8087091757387247\n"
     ]
    }
   ],
   "source": [
    "forest_best_score = 0\n",
    "forest_best_depth = 0\n",
    "forest_best_est = 0\n",
    "\n",
    "# Prueba distintos valores de número de estimadores desde 10 hasta 50 en intervalos de 5\n",
    "for est in range(10, 51, 10):\n",
    "    for depth in range (1, 11): # Prueba distintos valores de profundidad de cada árbol individual\n",
    "        forest_model = RandomForestClassifier(max_depth=depth, n_estimators=est, random_state=12345)\n",
    "        forest_model.fit(features_train, target_train)\n",
    "        \n",
    "        score = forest_model.score(features_valid, target_valid)\n",
    "        \n",
    "        if score > forest_best_score:\n",
    "            forest_best_score = score\n",
    "            forest_best_depth = depth\n",
    "            forest_best_est = est\n",
    "            \n",
    "print(\"Exactitud del mejor modelo en el conjunto de validación (n_estimators = {} y depth = {}): {}\".format(\n",
    "    forest_best_est, forest_best_depth, forest_best_score))"
   ]
  },
  {
   "cell_type": "markdown",
   "metadata": {},
   "source": [
    "**Hallazgos**\n",
    "\n",
    "Probando distintos rangos de valores para los valores `n_estimators` y `max_depth`, obtenemos la mejor puntuación en un modelo de bosque aleatorio con 40 estimadores y una profundidad de árbol individual de 8 nodos.\n",
    "\n",
    "Además, con este modelo obtenemos una mejor puntuación en la prueba de _accuracy_ que con el modelo de árbol de decisiones."
   ]
  },
  {
   "cell_type": "markdown",
   "metadata": {},
   "source": [
    "## Regresión logística\n",
    "\n",
    "Finalmenrte probaremos un modelo de regresión logística. Este modelo es más sencillo pero a la vez es algo más robusto ante el sobreajuste. En el parámetro `solver` utilizaremos el valor 'liblinear', ya que funciona mejor para conjuntos de datos más pequeños.\n",
    "\n",
    "Calcularemos además la exactitud del modelo tanto para el conjunto de entrenamiento como para el conjunto de validación."
   ]
  },
  {
   "cell_type": "code",
   "execution_count": 10,
   "metadata": {},
   "outputs": [
    {
     "name": "stdout",
     "output_type": "stream",
     "text": [
      "Exactitud del modelo de regresión logística en el conjunto de entrenamiento: 0.7505186721991701\n",
      "Exactitud del modelo de regresión logística en el conjunto de validación: 0.7589424572317263\n"
     ]
    }
   ],
   "source": [
    "log_reg_model = LogisticRegression(random_state=12345, solver='liblinear')\n",
    "log_reg_model.fit(features_train, target_train)\n",
    "\n",
    "score_train = log_reg_model.score(features_train, target_train)\n",
    "score_valid = log_reg_model.score(features_valid, target_valid)\n",
    "\n",
    "print('Exactitud del modelo de regresión logística en el conjunto de entrenamiento:', score_train)\n",
    "print('Exactitud del modelo de regresión logística en el conjunto de validación:', score_valid)"
   ]
  },
  {
   "cell_type": "markdown",
   "metadata": {},
   "source": [
    "**Hallazgos**\n",
    "\n",
    "Con un modelo de regresión logística obtenemos la peor de las puntuaciones en la prueba de _accuracy_, dónde con el conjunto de entrenamiento nos quedamos justo en el umbral de 0.75% y con el conjunto de validación apenas superamos el umbral del 0.75%."
   ]
  },
  {
   "cell_type": "markdown",
   "metadata": {},
   "source": [
    "**Conclusiones intermedias**\n",
    "\n",
    "Hemos podido comprobar que el modelo que mejores resultados ha dado ha sido el modelo de bosque aleatorio con 40 estimadores y una profundidad de 8 nodos.\n",
    "\n",
    "En la siguiente parte del proyecto probaremos este modelo con el conjunto de prueba."
   ]
  },
  {
   "cell_type": "markdown",
   "metadata": {},
   "source": [
    "# Comprobar la calidad del modelo\n",
    "\n",
    "En la parte anterior pudimos comprobar que el modelo que mejores resultados obtuvo con el conjunto de datos de validación fue el modelo de bosque aleatorio (`forest_model`), dónde obtuvimos una _accuracy_ del 80%. Después de éste, el segundo modelo que mejor puntuación obtuvo fue el modelo de árbol de decisiones (`tree_model`), el cual obtuvo una puntuación de _accuracy_ del 78.5%. \n",
    "\n",
    "En el siguiente bloque de código comprobaremos el desempeño del modelo `forest_model` (bosque aleatorio) con el conjunto de datos de prueba (`features_test`). Guardaremos el resultado de las predicciones sobre los datos del conjunto de prueba en `predictions_test` y después comprobamos el valor de _accuracy_ con el método `accuracy_score`."
   ]
  },
  {
   "cell_type": "code",
   "execution_count": 11,
   "metadata": {},
   "outputs": [
    {
     "name": "stdout",
     "output_type": "stream",
     "text": [
      "Accuracy del modelo de bosque aleatorio con el dataset de prueba: 0.8009331259720062\n"
     ]
    }
   ],
   "source": [
    "predictions_test = forest_model.predict(features_test)\n",
    "final_accuracy = accuracy_score(target_test, predictions_test)\n",
    "print('Accuracy del modelo de bosque aleatorio con el dataset de prueba:', final_accuracy)"
   ]
  },
  {
   "cell_type": "markdown",
   "metadata": {},
   "source": [
    "El modelo arroja una puntuación del 80% también en la métrica de _accuracy_ realizando predicciones sobre el conjunto de datos de prueba, manteniéndose sobre un porcentaje similar al obtenido con el conjunto de validación durante la fase de pruebas y ajuste de los modelos.  "
   ]
  },
  {
   "cell_type": "markdown",
   "metadata": {},
   "source": [
    "## Prueba de cordura del modelo\n",
    "\n",
    "En la prueba de cordura comprobaremos que nuestro modelo realiza las predicciones adecuadamente. Importaremos el objeto `default_rng` del módulo `random` de la librería `numpy` para crear un conjunto de datos con clasificaciones aleatorias que usaremos para realizar la prueba de cordura."
   ]
  },
  {
   "cell_type": "markdown",
   "metadata": {},
   "source": [
    "En el siguiente bloque de código crearemos un conjunto de datos dónde asignaremos de forma aleatoria el valor 0 ó 1 y tendrá la misma longitud que el _test set_. Llamaremos a este conjunto de datos `dummy_set`."
   ]
  },
  {
   "cell_type": "code",
   "execution_count": 16,
   "metadata": {},
   "outputs": [
    {
     "name": "stdout",
     "output_type": "stream",
     "text": [
      "Accuracy de un modelo simple con clasificaciones al azar: 0.5132192846034215\n"
     ]
    }
   ],
   "source": [
    "from numpy.random import default_rng \n",
    "\n",
    "# Inicia el objeto defaul_rng con la seed '12345'\n",
    "dummy_model = default_rng(12345) \n",
    "\n",
    "# Crea un conjunto de clasificaciones de forma aleatoria con la misma longitud que nuestro test set\n",
    "dummy_set = dummy_model.choice([0,1], len(target_test))\n",
    "print('Accuracy de un modelo simple con clasificaciones al azar:', accuracy_score(target_test, dummy_set))"
   ]
  },
  {
   "cell_type": "markdown",
   "metadata": {},
   "source": [
    "El modelo simple ha obtenido una exactitud del 51% frente a la exactitud del 80% obtenida por el modelo entrenado. Podemos decir que pasa correctamente la prueba de cordura."
   ]
  },
  {
   "cell_type": "markdown",
   "metadata": {},
   "source": [
    "# Conclusiones generales\n",
    "\n",
    "Finalmente, se enumeran las conclusiones obtenidas a lo largo del proyecto:\n",
    "\n",
    "   1. De los 3 modelo probados, el que mejor desempeño tiene es el modelo de bosque aleatorio, configurado con los hiperparámetros de `n_estimators` en 40 y `max_depth` en 8.\n",
    "   2. El _accuracy_ del modelo de bosque aleatorio entrenado es del 80%.\n",
    "   3. El modelo entrenado supera en puntuación a un modelo simple en la prueba de cordura.\n",
    "    "
   ]
  }
 ],
 "metadata": {
  "kernelspec": {
   "display_name": "Python 3 (ipykernel)",
   "language": "python",
   "name": "python3"
  },
  "language_info": {
   "codemirror_mode": {
    "name": "ipython",
    "version": 3
   },
   "file_extension": ".py",
   "mimetype": "text/x-python",
   "name": "python",
   "nbconvert_exporter": "python",
   "pygments_lexer": "ipython3",
   "version": "3.9.12"
  },
  "toc": {
   "base_numbering": 1,
   "nav_menu": {},
   "number_sections": false,
   "sideBar": true,
   "skip_h1_title": false,
   "title_cell": "Tabla de Contenidos",
   "title_sidebar": "Contents",
   "toc_cell": true,
   "toc_position": {
    "height": "calc(100% - 180px)",
    "left": "10px",
    "top": "150px",
    "width": "165px"
   },
   "toc_section_display": true,
   "toc_window_display": true
  }
 },
 "nbformat": 4,
 "nbformat_minor": 2
}
