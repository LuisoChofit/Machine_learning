{
 "cells": [
  {
   "cell_type": "markdown",
   "metadata": {
    "toc": true
   },
   "source": [
    "<h1>Tabla de Contenidos<span class=\"tocSkip\"></span></h1>\n",
    "<div class=\"toc\"><ul class=\"toc-item\"><li><span><a href=\"#Introducción\" data-toc-modified-id=\"Introducción-2\">Introducción</a></span><ul class=\"toc-item\"><li><span><a href=\"#Estrategia\" data-toc-modified-id=\"Estrategia-2.1\">Estrategia</a></span></li><li><span><a href=\"#Inicialización\" data-toc-modified-id=\"Inicialización-2.2\">Inicialización</a></span></li><li><span><a href=\"#Carga-los-datos\" data-toc-modified-id=\"Carga-los-datos-2.3\">Carga los datos</a></span></li><li><span><a href=\"#Explorar-datos-iniciales\" data-toc-modified-id=\"Explorar-datos-iniciales-2.4\">Explorar datos iniciales</a></span></li><li><span><a href=\"#Preparar-los-datos\" data-toc-modified-id=\"Preparar-los-datos-2.5\">Preparar los datos</a></span><ul class=\"toc-item\"><li><span><a href=\"#Eliminar-datos-ausentes\" data-toc-modified-id=\"Eliminar-datos-ausentes-2.5.1\">Eliminar datos ausentes</a></span></li><li><span><a href=\"#Codificar-características-categóricas\" data-toc-modified-id=\"Codificar-características-categóricas-2.5.2\">Codificar características categóricas</a></span><ul class=\"toc-item\"><li><span><a href=\"#Codificación-One-Hot\" data-toc-modified-id=\"Codificación-One-Hot-2.5.2.1\">Codificación One-Hot</a></span></li><li><span><a href=\"#Codificación-de-etiquetas\" data-toc-modified-id=\"Codificación-de-etiquetas-2.5.2.2\">Codificación de etiquetas</a></span></li></ul></li></ul></li><li><span><a href=\"#Segmentar-los-datos\" data-toc-modified-id=\"Segmentar-los-datos-2.6\">Segmentar los datos</a></span><ul class=\"toc-item\"><li><span><a href=\"#Segmentar-los-datos-codificados-con-OHE\" data-toc-modified-id=\"Segmentar-los-datos-codificados-con-OHE-2.6.1\">Segmentar los datos codificados con OHE</a></span></li><li><span><a href=\"#Segmentar-los-datos-con-label-encoding\" data-toc-modified-id=\"Segmentar-los-datos-con-label-encoding-2.6.2\">Segmentar los datos con label encoding</a></span></li></ul></li></ul></li><li><span><a href=\"#Probar-diferentes-modelos\" data-toc-modified-id=\"Probar-diferentes-modelos-3\">Probar diferentes modelos</a></span><ul class=\"toc-item\"><li><span><a href=\"#Regresión-logística\" data-toc-modified-id=\"Regresión-logística-3.1\">Regresión logística</a></span><ul class=\"toc-item\"><li><span><a href=\"#Modelo-sin-balanceo-de-clases\" data-toc-modified-id=\"Modelo-sin-balanceo-de-clases-3.1.1\">Modelo sin balanceo de clases</a></span></li><li><span><a href=\"#Modelo-con-balanceo-de-clases\" data-toc-modified-id=\"Modelo-con-balanceo-de-clases-3.1.2\">Modelo con balanceo de clases</a></span><ul class=\"toc-item\"><li><span><a href=\"#Ajuste-por-sobremuestreo.\" data-toc-modified-id=\"Ajuste-por-sobremuestreo.-3.1.2.1\">Ajuste por sobremuestreo.</a></span></li></ul></li><li><span><a href=\"#Curva-AUC-ROC-del-modelo-de-regresión-logística\" data-toc-modified-id=\"Curva-AUC-ROC-del-modelo-de-regresión-logística-3.1.3\">Curva AUC-ROC del modelo de regresión logística</a></span></li></ul></li><li><span><a href=\"#Árbol-de-decisiones\" data-toc-modified-id=\"Árbol-de-decisiones-3.2\">Árbol de decisiones</a></span><ul class=\"toc-item\"><li><span><a href=\"#Modelo-sin-balanceo-de-clases\" data-toc-modified-id=\"Modelo-sin-balanceo-de-clases-3.2.1\">Modelo sin balanceo de clases</a></span></li><li><span><a href=\"#Modelo-con-balanceo-de-clases\" data-toc-modified-id=\"Modelo-con-balanceo-de-clases-3.2.2\">Modelo con balanceo de clases</a></span><ul class=\"toc-item\"><li><span><a href=\"#Ajuste-por-sobremuestreo\" data-toc-modified-id=\"Ajuste-por-sobremuestreo-3.2.2.1\">Ajuste por sobremuestreo</a></span></li></ul></li><li><span><a href=\"#Curva-AUC-ROC-del-modelo-de-árbol-de-decisiones\" data-toc-modified-id=\"Curva-AUC-ROC-del-modelo-de-árbol-de-decisiones-3.2.3\">Curva AUC-ROC del modelo de árbol de decisiones</a></span></li></ul></li><li><span><a href=\"#Bosque-aleatorio\" data-toc-modified-id=\"Bosque-aleatorio-3.3\">Bosque aleatorio</a></span><ul class=\"toc-item\"><li><span><a href=\"#Modelo-sin-balanceo-de-clases\" data-toc-modified-id=\"Modelo-sin-balanceo-de-clases-3.3.1\">Modelo sin balanceo de clases</a></span></li><li><span><a href=\"#Modelo-con-balanceo-de-clases\" data-toc-modified-id=\"Modelo-con-balanceo-de-clases-3.3.2\">Modelo con balanceo de clases</a></span></li><li><span><a href=\"#Curva-AUC-ROC-del-modelo-de-bosque-aleatorio\" data-toc-modified-id=\"Curva-AUC-ROC-del-modelo-de-bosque-aleatorio-3.3.3\">Curva AUC-ROC del modelo de bosque aleatorio</a></span></li></ul></li></ul></li><li><span><a href=\"#Comprobar-la-calidad-del-modelo\" data-toc-modified-id=\"Comprobar-la-calidad-del-modelo-4\">Comprobar la calidad del modelo</a></span><ul class=\"toc-item\"><li><span><a href=\"#Prueba-de-cordura-del-modelo\" data-toc-modified-id=\"Prueba-de-cordura-del-modelo-4.1\">Prueba de cordura del modelo</a></span></li></ul></li><li><span><a href=\"#Conclusiones-generales\" data-toc-modified-id=\"Conclusiones-generales-5\">Conclusiones generales</a></span></li></ul></div>"
   ]
  },
  {
   "cell_type": "markdown",
   "metadata": {},
   "source": [
    "# Introducción\n",
    "\n",
    "El banco Beta Bank ha observado que sus clientes se están yendo, cada mes, poco a poco. Los banqueros descubrieron que es más barato salvar a los clientes existentes que atraer nuevos clientes.\n",
    "\n",
    "Los banqueros necesitan predecir si un cliente dejará el banco pronto. Para ello se nos proporcionan los datos sobre el comportamiento pasado de los clientes y la terminación de los contratos con el banco."
   ]
  },
  {
   "cell_type": "markdown",
   "metadata": {},
   "source": [
    "## Estrategia\n",
    "\n",
    "Para el desarrollo de este proyecto se seguirá la siguiente estrategia:\n",
    " 1. División de los datos en dos conjuntos, uno de prueba y otro de validación.\n",
    " 2. Se entrenarán diferentes modelos para identificar aquel que arroje mejores resultados de acuerdo a las métricas.\n",
    " 3. Se identificará si existe desequilibrio de clases. En tal caso se ajustará el modelo para corregirlo.\n",
    " 4. Una vez se haya ajustado el modelo con el cuál obtengamos resultados que se ajusten a las necesidades de la compañía, se realizará una prueba de cordura."
   ]
  },
  {
   "cell_type": "markdown",
   "metadata": {},
   "source": [
    "**Selección del mejor modelo**\n",
    "\n",
    "Como el objetivo del proyecto se trata de una variable categórica, se harán las pruebas con estos 3 tipos de modelos:\n",
    "\n",
    " - Árbol de decisiones (`DecisionTreeClassifier`)\n",
    " - Bosque aleatorio (`RandomForestClassifier`)\n",
    " - Regresión logística (`LogisticRegression`)\n",
    " \n",
    "El criterio de selección del modelo será mediante la métrica de _accuracy_. En caso de que esta métrica no nos aporte la información necesaria por la existencia de desequilibro de clases, recurriremos a la métrica _F1_."
   ]
  },
  {
   "cell_type": "markdown",
   "metadata": {},
   "source": [
    "_Nota: se pide que el valor de F1 sea superior a 0.59._"
   ]
  },
  {
   "cell_type": "markdown",
   "metadata": {},
   "source": [
    "## Inicialización\n",
    "\n",
    "Para desarrollar el proyecto, en primer lugar cargaremos las librerías que necesitaremos para instanciar los modelos y entrenarlos, así como métricas de evaluación y la librería `pandas` para trabajar con conjuntos de datos."
   ]
  },
  {
   "cell_type": "code",
   "execution_count": 1,
   "metadata": {},
   "outputs": [],
   "source": [
    "# Carga las librerías\n",
    "\n",
    "import pandas as pd\n",
    "import matplotlib.pyplot as plt\n",
    "from sklearn.utils import shuffle\n",
    "from sklearn.model_selection import train_test_split\n",
    "from sklearn.preprocessing import OrdinalEncoder\n",
    "from sklearn.tree import DecisionTreeClassifier\n",
    "from sklearn.ensemble import RandomForestClassifier\n",
    "from sklearn.linear_model import LogisticRegression\n",
    "from sklearn.metrics import accuracy_score, f1_score, roc_auc_score, roc_curve\n",
    "from numpy.random import default_rng\n"
   ]
  },
  {
   "cell_type": "markdown",
   "metadata": {},
   "source": [
    "## Carga los datos\n",
    "\n",
    "Para este proyecto contamos con los datos sobre el comportamiento pasado de los clientes."
   ]
  },
  {
   "cell_type": "code",
   "execution_count": 3,
   "metadata": {},
   "outputs": [],
   "source": [
    "# Carga los datos\n",
    "\n",
    "try:\n",
    "    users_data = pd.read_csv('Churn.csv')\n",
    "    \n",
    "except:\n",
    "    users_data = pd.read_csv('/datasets/Churn.csv')"
   ]
  },
  {
   "cell_type": "markdown",
   "metadata": {},
   "source": [
    "## Explorar datos iniciales\n",
    "\n",
    "El Dataframe contiene los siguientes datos:\n",
    "\n",
    " - `RowNumber` - índice de cadena de datos.\n",
    " - `CustomerId` - identificador de cliente único.\n",
    " - `Surname` - apellido del cliente.\n",
    " - `CreditScore` - valor de crédito.\n",
    " - `Geography` - país de residencia.\n",
    " - `Gender` - sexo.\n",
    " - `Age` - edad.\n",
    " - `Tenure` - período durante el cual ha madurado el depósito a plazo fijo de un cliente (años).\n",
    " - `Balance` - saldo de la cuenta.\n",
    " - `NumOfProducts` - número de productos bancarios utilizados por el cliente.\n",
    " - `HasCrCard` - el cliente tiene una tajeta de crédito (valor binario, 1 - sí; 0 - no).\n",
    " - `IsActiveMember` - es un cliente activo (valor binario, 1 - sí; 0 - no).\n",
    " - `EstimatedSalary` - salario estimado.\n",
    " - `Exited` - el cliente se ha ido (valor binario, 1 - sí; 0 - no)."
   ]
  },
  {
   "cell_type": "code",
   "execution_count": 4,
   "metadata": {},
   "outputs": [
    {
     "name": "stdout",
     "output_type": "stream",
     "text": [
      "<class 'pandas.core.frame.DataFrame'>\n",
      "RangeIndex: 10000 entries, 0 to 9999\n",
      "Data columns (total 14 columns):\n",
      " #   Column           Non-Null Count  Dtype  \n",
      "---  ------           --------------  -----  \n",
      " 0   RowNumber        10000 non-null  int64  \n",
      " 1   CustomerId       10000 non-null  int64  \n",
      " 2   Surname          10000 non-null  object \n",
      " 3   CreditScore      10000 non-null  int64  \n",
      " 4   Geography        10000 non-null  object \n",
      " 5   Gender           10000 non-null  object \n",
      " 6   Age              10000 non-null  int64  \n",
      " 7   Tenure           9091 non-null   float64\n",
      " 8   Balance          10000 non-null  float64\n",
      " 9   NumOfProducts    10000 non-null  int64  \n",
      " 10  HasCrCard        10000 non-null  int64  \n",
      " 11  IsActiveMember   10000 non-null  int64  \n",
      " 12  EstimatedSalary  10000 non-null  float64\n",
      " 13  Exited           10000 non-null  int64  \n",
      "dtypes: float64(3), int64(8), object(3)\n",
      "memory usage: 1.1+ MB\n"
     ]
    }
   ],
   "source": [
    "# Imprime información de los datos\n",
    "\n",
    "users_data.info()"
   ]
  },
  {
   "cell_type": "code",
   "execution_count": 5,
   "metadata": {},
   "outputs": [
    {
     "data": {
      "text/html": [
       "<div>\n",
       "<style scoped>\n",
       "    .dataframe tbody tr th:only-of-type {\n",
       "        vertical-align: middle;\n",
       "    }\n",
       "\n",
       "    .dataframe tbody tr th {\n",
       "        vertical-align: top;\n",
       "    }\n",
       "\n",
       "    .dataframe thead th {\n",
       "        text-align: right;\n",
       "    }\n",
       "</style>\n",
       "<table border=\"1\" class=\"dataframe\">\n",
       "  <thead>\n",
       "    <tr style=\"text-align: right;\">\n",
       "      <th></th>\n",
       "      <th>RowNumber</th>\n",
       "      <th>CustomerId</th>\n",
       "      <th>Surname</th>\n",
       "      <th>CreditScore</th>\n",
       "      <th>Geography</th>\n",
       "      <th>Gender</th>\n",
       "      <th>Age</th>\n",
       "      <th>Tenure</th>\n",
       "      <th>Balance</th>\n",
       "      <th>NumOfProducts</th>\n",
       "      <th>HasCrCard</th>\n",
       "      <th>IsActiveMember</th>\n",
       "      <th>EstimatedSalary</th>\n",
       "      <th>Exited</th>\n",
       "    </tr>\n",
       "  </thead>\n",
       "  <tbody>\n",
       "    <tr>\n",
       "      <th>0</th>\n",
       "      <td>1</td>\n",
       "      <td>15634602</td>\n",
       "      <td>Hargrave</td>\n",
       "      <td>619</td>\n",
       "      <td>France</td>\n",
       "      <td>Female</td>\n",
       "      <td>42</td>\n",
       "      <td>2.0</td>\n",
       "      <td>0.00</td>\n",
       "      <td>1</td>\n",
       "      <td>1</td>\n",
       "      <td>1</td>\n",
       "      <td>101348.88</td>\n",
       "      <td>1</td>\n",
       "    </tr>\n",
       "    <tr>\n",
       "      <th>1</th>\n",
       "      <td>2</td>\n",
       "      <td>15647311</td>\n",
       "      <td>Hill</td>\n",
       "      <td>608</td>\n",
       "      <td>Spain</td>\n",
       "      <td>Female</td>\n",
       "      <td>41</td>\n",
       "      <td>1.0</td>\n",
       "      <td>83807.86</td>\n",
       "      <td>1</td>\n",
       "      <td>0</td>\n",
       "      <td>1</td>\n",
       "      <td>112542.58</td>\n",
       "      <td>0</td>\n",
       "    </tr>\n",
       "    <tr>\n",
       "      <th>2</th>\n",
       "      <td>3</td>\n",
       "      <td>15619304</td>\n",
       "      <td>Onio</td>\n",
       "      <td>502</td>\n",
       "      <td>France</td>\n",
       "      <td>Female</td>\n",
       "      <td>42</td>\n",
       "      <td>8.0</td>\n",
       "      <td>159660.80</td>\n",
       "      <td>3</td>\n",
       "      <td>1</td>\n",
       "      <td>0</td>\n",
       "      <td>113931.57</td>\n",
       "      <td>1</td>\n",
       "    </tr>\n",
       "    <tr>\n",
       "      <th>3</th>\n",
       "      <td>4</td>\n",
       "      <td>15701354</td>\n",
       "      <td>Boni</td>\n",
       "      <td>699</td>\n",
       "      <td>France</td>\n",
       "      <td>Female</td>\n",
       "      <td>39</td>\n",
       "      <td>1.0</td>\n",
       "      <td>0.00</td>\n",
       "      <td>2</td>\n",
       "      <td>0</td>\n",
       "      <td>0</td>\n",
       "      <td>93826.63</td>\n",
       "      <td>0</td>\n",
       "    </tr>\n",
       "    <tr>\n",
       "      <th>4</th>\n",
       "      <td>5</td>\n",
       "      <td>15737888</td>\n",
       "      <td>Mitchell</td>\n",
       "      <td>850</td>\n",
       "      <td>Spain</td>\n",
       "      <td>Female</td>\n",
       "      <td>43</td>\n",
       "      <td>2.0</td>\n",
       "      <td>125510.82</td>\n",
       "      <td>1</td>\n",
       "      <td>1</td>\n",
       "      <td>1</td>\n",
       "      <td>79084.10</td>\n",
       "      <td>0</td>\n",
       "    </tr>\n",
       "  </tbody>\n",
       "</table>\n",
       "</div>"
      ],
      "text/plain": [
       "   RowNumber  CustomerId   Surname  CreditScore Geography  Gender  Age  \\\n",
       "0          1    15634602  Hargrave          619    France  Female   42   \n",
       "1          2    15647311      Hill          608     Spain  Female   41   \n",
       "2          3    15619304      Onio          502    France  Female   42   \n",
       "3          4    15701354      Boni          699    France  Female   39   \n",
       "4          5    15737888  Mitchell          850     Spain  Female   43   \n",
       "\n",
       "   Tenure    Balance  NumOfProducts  HasCrCard  IsActiveMember  \\\n",
       "0     2.0       0.00              1          1               1   \n",
       "1     1.0   83807.86              1          0               1   \n",
       "2     8.0  159660.80              3          1               0   \n",
       "3     1.0       0.00              2          0               0   \n",
       "4     2.0  125510.82              1          1               1   \n",
       "\n",
       "   EstimatedSalary  Exited  \n",
       "0        101348.88       1  \n",
       "1        112542.58       0  \n",
       "2        113931.57       1  \n",
       "3         93826.63       0  \n",
       "4         79084.10       0  "
      ]
     },
     "execution_count": 5,
     "metadata": {},
     "output_type": "execute_result"
    }
   ],
   "source": [
    "# Imprime una muestra de los datos\n",
    "\n",
    "users_data.head()"
   ]
  },
  {
   "cell_type": "markdown",
   "metadata": {},
   "source": [
    "**Observaciones en los datos**\n",
    "\n",
    "1. En la descripción de los datos podemos ver que tenemos algunos valores ausentes en la columna `Tenure`, de los cuales podemos comprobar una muestra de algunas filas donde este valor es nulo para comprobar si sigue algún tipo de patrón."
   ]
  },
  {
   "cell_type": "code",
   "execution_count": 6,
   "metadata": {},
   "outputs": [
    {
     "data": {
      "text/html": [
       "<div>\n",
       "<style scoped>\n",
       "    .dataframe tbody tr th:only-of-type {\n",
       "        vertical-align: middle;\n",
       "    }\n",
       "\n",
       "    .dataframe tbody tr th {\n",
       "        vertical-align: top;\n",
       "    }\n",
       "\n",
       "    .dataframe thead th {\n",
       "        text-align: right;\n",
       "    }\n",
       "</style>\n",
       "<table border=\"1\" class=\"dataframe\">\n",
       "  <thead>\n",
       "    <tr style=\"text-align: right;\">\n",
       "      <th></th>\n",
       "      <th>RowNumber</th>\n",
       "      <th>CustomerId</th>\n",
       "      <th>Surname</th>\n",
       "      <th>CreditScore</th>\n",
       "      <th>Geography</th>\n",
       "      <th>Gender</th>\n",
       "      <th>Age</th>\n",
       "      <th>Tenure</th>\n",
       "      <th>Balance</th>\n",
       "      <th>NumOfProducts</th>\n",
       "      <th>HasCrCard</th>\n",
       "      <th>IsActiveMember</th>\n",
       "      <th>EstimatedSalary</th>\n",
       "      <th>Exited</th>\n",
       "    </tr>\n",
       "  </thead>\n",
       "  <tbody>\n",
       "    <tr>\n",
       "      <th>30</th>\n",
       "      <td>31</td>\n",
       "      <td>15589475</td>\n",
       "      <td>Azikiwe</td>\n",
       "      <td>591</td>\n",
       "      <td>Spain</td>\n",
       "      <td>Female</td>\n",
       "      <td>39</td>\n",
       "      <td>NaN</td>\n",
       "      <td>0.00</td>\n",
       "      <td>3</td>\n",
       "      <td>1</td>\n",
       "      <td>0</td>\n",
       "      <td>140469.38</td>\n",
       "      <td>1</td>\n",
       "    </tr>\n",
       "    <tr>\n",
       "      <th>48</th>\n",
       "      <td>49</td>\n",
       "      <td>15766205</td>\n",
       "      <td>Yin</td>\n",
       "      <td>550</td>\n",
       "      <td>Germany</td>\n",
       "      <td>Male</td>\n",
       "      <td>38</td>\n",
       "      <td>NaN</td>\n",
       "      <td>103391.38</td>\n",
       "      <td>1</td>\n",
       "      <td>0</td>\n",
       "      <td>1</td>\n",
       "      <td>90878.13</td>\n",
       "      <td>0</td>\n",
       "    </tr>\n",
       "    <tr>\n",
       "      <th>51</th>\n",
       "      <td>52</td>\n",
       "      <td>15768193</td>\n",
       "      <td>Trevisani</td>\n",
       "      <td>585</td>\n",
       "      <td>Germany</td>\n",
       "      <td>Male</td>\n",
       "      <td>36</td>\n",
       "      <td>NaN</td>\n",
       "      <td>146050.97</td>\n",
       "      <td>2</td>\n",
       "      <td>0</td>\n",
       "      <td>0</td>\n",
       "      <td>86424.57</td>\n",
       "      <td>0</td>\n",
       "    </tr>\n",
       "    <tr>\n",
       "      <th>53</th>\n",
       "      <td>54</td>\n",
       "      <td>15702298</td>\n",
       "      <td>Parkhill</td>\n",
       "      <td>655</td>\n",
       "      <td>Germany</td>\n",
       "      <td>Male</td>\n",
       "      <td>41</td>\n",
       "      <td>NaN</td>\n",
       "      <td>125561.97</td>\n",
       "      <td>1</td>\n",
       "      <td>0</td>\n",
       "      <td>0</td>\n",
       "      <td>164040.94</td>\n",
       "      <td>1</td>\n",
       "    </tr>\n",
       "    <tr>\n",
       "      <th>60</th>\n",
       "      <td>61</td>\n",
       "      <td>15651280</td>\n",
       "      <td>Hunter</td>\n",
       "      <td>742</td>\n",
       "      <td>Germany</td>\n",
       "      <td>Male</td>\n",
       "      <td>35</td>\n",
       "      <td>NaN</td>\n",
       "      <td>136857.00</td>\n",
       "      <td>1</td>\n",
       "      <td>0</td>\n",
       "      <td>0</td>\n",
       "      <td>84509.57</td>\n",
       "      <td>0</td>\n",
       "    </tr>\n",
       "  </tbody>\n",
       "</table>\n",
       "</div>"
      ],
      "text/plain": [
       "    RowNumber  CustomerId    Surname  CreditScore Geography  Gender  Age  \\\n",
       "30         31    15589475    Azikiwe          591     Spain  Female   39   \n",
       "48         49    15766205        Yin          550   Germany    Male   38   \n",
       "51         52    15768193  Trevisani          585   Germany    Male   36   \n",
       "53         54    15702298   Parkhill          655   Germany    Male   41   \n",
       "60         61    15651280     Hunter          742   Germany    Male   35   \n",
       "\n",
       "    Tenure    Balance  NumOfProducts  HasCrCard  IsActiveMember  \\\n",
       "30     NaN       0.00              3          1               0   \n",
       "48     NaN  103391.38              1          0               1   \n",
       "51     NaN  146050.97              2          0               0   \n",
       "53     NaN  125561.97              1          0               0   \n",
       "60     NaN  136857.00              1          0               0   \n",
       "\n",
       "    EstimatedSalary  Exited  \n",
       "30        140469.38       1  \n",
       "48         90878.13       0  \n",
       "51         86424.57       0  \n",
       "53        164040.94       1  \n",
       "60         84509.57       0  "
      ]
     },
     "execution_count": 6,
     "metadata": {},
     "output_type": "execute_result"
    }
   ],
   "source": [
    "# Muestra entradas donde 'Tenure' es un valor ausente\n",
    "\n",
    "users_data[users_data['Tenure'].isna()].head()"
   ]
  },
  {
   "cell_type": "code",
   "execution_count": 7,
   "metadata": {},
   "outputs": [
    {
     "name": "stdout",
     "output_type": "stream",
     "text": [
      "Porcentaje de filas con valores ausentes: 9.09 %\n"
     ]
    }
   ],
   "source": [
    "# Porcentaje de entradas donde 'Tenure' es un valor ausente\n",
    "\n",
    "na_row_percent = (len(users_data[users_data['Tenure'].isna()])/len(users_data))*100 \n",
    "print('Porcentaje de filas con valores ausentes:', na_row_percent, '%')"
   ]
  },
  {
   "cell_type": "markdown",
   "metadata": {},
   "source": [
    "Podemos observar que no existe un patrón aparente, y además, estas filas suponen menos de un 10% de un dataset con bastantes entradas, por lo tanto, podemos prescindir de estas filas."
   ]
  },
  {
   "cell_type": "markdown",
   "metadata": {},
   "source": [
    "2. Las columnas `Geography` y `Gender` tienen valores categóricos. Para que nuestro modelo pueda utilizar estas características debemos transformarlas en valores numéricos (para el modelo de regresión logística) o codificar etiquetas (para los modelos de tipo árbol de decisiones)."
   ]
  },
  {
   "cell_type": "markdown",
   "metadata": {},
   "source": [
    "3. Para entrenar el modelo, también podemos observar que las columnas `RowNumber`, `CustomerId` y `Surname` no son relevantes para la predicción de si el cliente se irá o no. Incluso las dos primeras, siendo columnas con datos numéricos de órdenes de magnitud muy distintos lo único que harían sería confundir a nuestro modelo."
   ]
  },
  {
   "cell_type": "markdown",
   "metadata": {},
   "source": [
    "## Preparar los datos\n",
    "\n",
    "A continuación, preparamos los datos de acuerdo a las observaciones que han sido mencionadas en el apartado anterior."
   ]
  },
  {
   "cell_type": "markdown",
   "metadata": {},
   "source": [
    "### Eliminar datos ausentes\n",
    "\n",
    "Eliminamos las filas que contienen datos ausentes en la columna `Tenure`."
   ]
  },
  {
   "cell_type": "code",
   "execution_count": 8,
   "metadata": {},
   "outputs": [],
   "source": [
    "# Eliminamos las filas con valores ausentes\n",
    "\n",
    "users_data = users_data.dropna().reset_index()"
   ]
  },
  {
   "cell_type": "markdown",
   "metadata": {},
   "source": [
    "### Codificar características categóricas\n",
    "\n",
    "El modelo de regresión logística no puede procesar variables categóricas, por lo tanto es necesario codificar dichas variables categóricas en numéricas, para lo cual utilizaremos el método de codificación One-Hot.\n",
    "\n",
    "Por otro lado, los modelos de tipo árbol solo pueden procesar una variable a la vez, por lo que si utilizamos la codificación One-Hot, la importancia de la variable categórica original se dispersaría entre varias variables dummy. Para evitar esto se utilizará el método de codificación de etiquetas (label encoding)."
   ]
  },
  {
   "cell_type": "markdown",
   "metadata": {},
   "source": [
    "#### Codificación One-Hot"
   ]
  },
  {
   "cell_type": "code",
   "execution_count": 9,
   "metadata": {},
   "outputs": [],
   "source": [
    "# Eliminar columnas con características irrelevantes\n",
    "\n",
    "processed_data = users_data.drop(['RowNumber', 'CustomerId', 'Surname'], axis=1)\n",
    "\n",
    "# Obtención de variables dummies con la codificación OHE\n",
    "\n",
    "processed_data_ohe = pd.get_dummies(processed_data, drop_first=True)"
   ]
  },
  {
   "cell_type": "markdown",
   "metadata": {},
   "source": [
    "**Identificar características y objetivo**"
   ]
  },
  {
   "cell_type": "code",
   "execution_count": 10,
   "metadata": {},
   "outputs": [],
   "source": [
    "# Identifica las carácteristicas y el objetivo con OHE\n",
    "\n",
    "features_ohe = processed_data_ohe.drop('Exited', axis=1)\n",
    "target_ohe = processed_data_ohe['Exited']"
   ]
  },
  {
   "cell_type": "markdown",
   "metadata": {},
   "source": [
    "#### Codificación de etiquetas\n",
    "\n",
    "Se hará uso del método de _label encoding_ con la clase `OrdinalEncoding` para codificar las características categóricas."
   ]
  },
  {
   "cell_type": "code",
   "execution_count": 11,
   "metadata": {},
   "outputs": [],
   "source": [
    "# Label encoding para las variables categóricas\n",
    "\n",
    "encoder = OrdinalEncoder()\n",
    "data_ordinal = pd.DataFrame(encoder.fit_transform(processed_data),\n",
    "                            columns=processed_data.columns)\n",
    "\n",
    "# Identifica las características y el objetivo con label encoding\n",
    "\n",
    "features_ordinal = data_ordinal.drop('Exited', axis=1)\n",
    "target_ordinal = data_ordinal['Exited']"
   ]
  },
  {
   "cell_type": "markdown",
   "metadata": {},
   "source": [
    "## Segmentar los datos\n",
    "\n",
    "Para entrenar y medir el desempeño de los modelos, segmentaremos nuestro dataset en un conjunto de entrenamiento, un conjunto de validación y un conjunto de prueba en una proporción 60:20:20 (%)"
   ]
  },
  {
   "cell_type": "markdown",
   "metadata": {},
   "source": [
    "### Segmentar los datos codificados con OHE"
   ]
  },
  {
   "cell_type": "code",
   "execution_count": 12,
   "metadata": {},
   "outputs": [],
   "source": [
    "# Segmentamos los datos en un conjunto de entrenamiento y uno de validación\n",
    "\n",
    "features_ohe_train, features_ohe_valid, target_ohe_train, target_ohe_valid = train_test_split(\n",
    "    features_ohe, target_ohe, test_size=0.40, random_state=54321)\n",
    "\n",
    "# Segmentamos el conjunto de validación para obtener el conjunto de prueba \n",
    "features_ohe_valid, features_ohe_test, target_ohe_valid, target_ohe_test = train_test_split(\n",
    "    features_ohe_valid, target_ohe_valid, test_size=0.50, random_state=54321)"
   ]
  },
  {
   "cell_type": "code",
   "execution_count": 13,
   "metadata": {},
   "outputs": [
    {
     "name": "stdout",
     "output_type": "stream",
     "text": [
      "Tamaño total del dataset: (9091, 13)\n",
      "\n",
      "Tamaño de features_ohe_train: (5454, 12)\n",
      "Tamaño de features_ohe_valid: (1818, 12)\n",
      "Tamaño de features_ohe_test: (1819, 12)\n",
      "\n",
      "Tamaño de target_ohe_train: (5454,)\n",
      "Tamaño de target_ohe_valid: (1818,)\n",
      "Tamaño de target_ohe_test: (1819,)\n"
     ]
    }
   ],
   "source": [
    "# Comprobamos el tamaño de los datasets\n",
    "\n",
    "print('Tamaño total del dataset:', processed_data_ohe.shape)\n",
    "print()\n",
    "print('Tamaño de features_ohe_train:', features_ohe_train.shape)\n",
    "print('Tamaño de features_ohe_valid:', features_ohe_valid.shape)\n",
    "print('Tamaño de features_ohe_test:', features_ohe_test.shape)\n",
    "print()\n",
    "print('Tamaño de target_ohe_train:', target_ohe_train.shape)\n",
    "print('Tamaño de target_ohe_valid:', target_ohe_valid.shape)\n",
    "print('Tamaño de target_ohe_test:', target_ohe_test.shape)"
   ]
  },
  {
   "cell_type": "markdown",
   "metadata": {},
   "source": [
    "### Segmentar los datos con label encoding"
   ]
  },
  {
   "cell_type": "code",
   "execution_count": 14,
   "metadata": {},
   "outputs": [],
   "source": [
    "# Segmentamos los datos en un conjunto de entrenamiento y uno de validación\n",
    "\n",
    "features_ordinal_train, features_ordinal_valid, target_ordinal_train, target_ordinal_valid = train_test_split(\n",
    "    features_ordinal, target_ordinal, test_size=0.25, random_state=54321)\n",
    "\n",
    "# Segmentamos el conjunto de validación para obtener el conjunto de prueba \n",
    "features_ordinal_valid, features_ordinal_test, target_ordinal_valid, target_ordinal_test = train_test_split(\n",
    "    features_ordinal_valid, target_ordinal_valid, test_size=0.50, random_state=54321)"
   ]
  },
  {
   "cell_type": "code",
   "execution_count": 15,
   "metadata": {},
   "outputs": [
    {
     "name": "stdout",
     "output_type": "stream",
     "text": [
      "Tamaño total del dataset: (9091, 12)\n",
      "\n",
      "Tamaño de features_ordinal_train: (6818, 11)\n",
      "Tamaño de features_ordinal_valid: (1136, 11)\n",
      "Tamaño de features_ordinal_test: (1137, 11)\n",
      "\n",
      "Tamaño de target_ordinal_train: (6818,)\n",
      "Tamaño de target_ordinal_valid: (1136,)\n",
      "Tamaño de target_ordinal_test: (1137,)\n"
     ]
    }
   ],
   "source": [
    "# Comprobamos el tamaño de los datasets\n",
    "\n",
    "print('Tamaño total del dataset:', data_ordinal.shape)\n",
    "print()\n",
    "print('Tamaño de features_ordinal_train:', features_ordinal_train.shape)\n",
    "print('Tamaño de features_ordinal_valid:', features_ordinal_valid.shape)\n",
    "print('Tamaño de features_ordinal_test:', features_ordinal_test.shape)\n",
    "print()\n",
    "print('Tamaño de target_ordinal_train:', target_ordinal_train.shape)\n",
    "print('Tamaño de target_ordinal_valid:', target_ordinal_valid.shape)\n",
    "print('Tamaño de target_ordinal_test:', target_ordinal_test.shape)"
   ]
  },
  {
   "cell_type": "markdown",
   "metadata": {},
   "source": [
    "# Probar diferentes modelos\n",
    "\n",
    "En esta parte haremos pruebas con diferentes modelos para encontrar el modelo que mejor desempeño ofrezca."
   ]
  },
  {
   "cell_type": "markdown",
   "metadata": {},
   "source": [
    "## Regresión logística\n",
    "\n",
    "Comenzamos probando un modelo de regresión logística. Primero comprobaremos su desempeño sin tener en cuenta el balanceo de clases y después teniendo éste en cuenta. También comprobaremos su desempeño con distintas métricas.\n",
    "\n",
    "Llamaremos `model_a` al modelo de regresión logística. Le añadiremos el prefijo `unbal_` al modelo sin balanceo de clases."
   ]
  },
  {
   "cell_type": "markdown",
   "metadata": {},
   "source": [
    "### Modelo sin balanceo de clases"
   ]
  },
  {
   "cell_type": "code",
   "execution_count": 16,
   "metadata": {},
   "outputs": [],
   "source": [
    "# Instancia y entrena el modelo sin balanceo de clases\n",
    "\n",
    "unbal_model_a = LogisticRegression(random_state=54321, solver='liblinear').fit(\n",
    "    features_ohe_train, target_ohe_train\n",
    ")"
   ]
  },
  {
   "cell_type": "code",
   "execution_count": 19,
   "metadata": {},
   "outputs": [
    {
     "name": "stdout",
     "output_type": "stream",
     "text": [
      "Exactitud del modelo de regresión logística en el conjunto de entrenamiento: 0.7942794279427943\n",
      "Exactitud del modelo de regresión logística en el conjunto de validación: 0.7898789878987899\n",
      "F1 score del modelo de regresión logística en el conjunto de validación: 0.07729468599033816\n"
     ]
    }
   ],
   "source": [
    "score_train = unbal_model_a.score(features_ohe_train, target_ohe_train)\n",
    "score_valid = unbal_model_a.score(features_ohe_valid, target_ohe_valid)\n",
    "predicted_valid = unbal_model_a.predict(features_ohe_valid)\n",
    "\n",
    "score_f1 = f1_score(target_ohe_valid, predicted_valid)\n",
    "print('Exactitud del modelo de regresión logística en el conjunto de entrenamiento:', score_train)\n",
    "print('Exactitud del modelo de regresión logística en el conjunto de validación:', score_valid)\n",
    "print('F1 score del modelo de regresión logística en el conjunto de validación:', score_f1)"
   ]
  },
  {
   "cell_type": "markdown",
   "metadata": {},
   "source": [
    "### Modelo con balanceo de clases\n",
    "\n",
    "Se probarán dos enfoques para corregir el desequilibrio de clases:\n",
    "\n",
    "   1. El primer enfoque consiste en definir el parámetro `class_weigth` del modelo como `'balanced'`.\n",
    "   2. El segundo enfoque consiste en sobremuestrear la clase más atípica."
   ]
  },
  {
   "cell_type": "code",
   "execution_count": 18,
   "metadata": {},
   "outputs": [],
   "source": [
    "# Instancia y entrena el modelo con balanceo de clases\n",
    "\n",
    "model_a = LogisticRegression(random_state=54321, solver='liblinear', class_weight='balanced').fit(\n",
    "    features_ohe_train, target_ohe_train)"
   ]
  },
  {
   "cell_type": "code",
   "execution_count": 20,
   "metadata": {},
   "outputs": [
    {
     "name": "stdout",
     "output_type": "stream",
     "text": [
      "Exactitud del modelo de regresión logística en el conjunto de entrenamiento: 0.7004033736707004\n",
      "Exactitud del modelo de regresión logística en el conjunto de validación: 0.6875687568756875\n",
      "F1 score del modelo de regresión logística en el conjunto de validación: 0.4671669793621013\n"
     ]
    }
   ],
   "source": [
    "score_train = model_a.score(features_ohe_train, target_ohe_train)\n",
    "score_valid = model_a.score(features_ohe_valid, target_ohe_valid)\n",
    "predicted_valid = model_a.predict(features_ohe_valid)\n",
    "\n",
    "score_f1 = f1_score(target_ohe_valid, predicted_valid)\n",
    "\n",
    "print('Exactitud del modelo de regresión logística en el conjunto de entrenamiento:', score_train)\n",
    "print('Exactitud del modelo de regresión logística en el conjunto de validación:', score_valid)\n",
    "print('F1 score del modelo de regresión logística en el conjunto de validación:', score_f1)"
   ]
  },
  {
   "cell_type": "markdown",
   "metadata": {},
   "source": [
    "#### Ajuste por sobremuestreo.\n",
    "\n",
    "Para realizar el ajuste por sobremuestreo, primero se cuenta la frecuencia de cada clase."
   ]
  },
  {
   "cell_type": "code",
   "execution_count": 21,
   "metadata": {},
   "outputs": [
    {
     "name": "stdout",
     "output_type": "stream",
     "text": [
      "La proporción de la clase 1 en el dataset es del: 20.393796062039378 %\n"
     ]
    }
   ],
   "source": [
    "processed_data_ohe['Exited'].value_counts()\n",
    "\n",
    "one_class_portion = (len(\n",
    "    processed_data_ohe[processed_data_ohe['Exited']==1])/len(processed_data_ohe['Exited']))*100\n",
    "\n",
    "print('La proporción de la clase 1 en el dataset es del:', one_class_portion, '%')"
   ]
  },
  {
   "cell_type": "markdown",
   "metadata": {},
   "source": [
    "La clase 1 se corresponde con una quinta parte de todo el dataset, así que será esta clase la que sobremuestreemos para que el modelo tenga más referencias sobre esta clase."
   ]
  },
  {
   "cell_type": "code",
   "execution_count": 22,
   "metadata": {},
   "outputs": [],
   "source": [
    "# Define una función para hacer el sobremuestreo\n",
    "\n",
    "def upsample(features, target, repeat):\n",
    "    features_zeros = features[target == 0]\n",
    "    features_ones = features[target == 1]\n",
    "    target_zeros = target[target == 0]\n",
    "    target_ones = target[target == 1]\n",
    "\n",
    "    features_upsampled = pd.concat([features_zeros] + [features_ones] * repeat)\n",
    "    target_upsampled = pd.concat([target_zeros] + [target_ones] * repeat)\n",
    "\n",
    "    features_upsampled, target_upsampled = shuffle(\n",
    "        features_upsampled, target_upsampled, random_state=54321\n",
    "    )\n",
    "\n",
    "    return features_upsampled, target_upsampled"
   ]
  },
  {
   "cell_type": "code",
   "execution_count": 25,
   "metadata": {},
   "outputs": [
    {
     "name": "stdout",
     "output_type": "stream",
     "text": [
      "F1 score del modelo con ajuste por sobremuestreo: 0.3616118769883351\n"
     ]
    }
   ],
   "source": [
    "# Sobremuestrea los datasets de entrenamiento\n",
    "\n",
    "features_upsampled, target_upsampled = upsample(\n",
    "    features_ohe_train, target_ohe_train, 10\n",
    ")\n",
    "\n",
    "# Entrena un modelo con sobremuestreo\n",
    "model_a_upsamp = LogisticRegression(solver='liblinear', random_state=54321)\n",
    "model_a_upsamp.fit(features_upsampled, target_upsampled)\n",
    "\n",
    "predicted_valid = model_a_upsamp.predict(features_ohe_valid)\n",
    "\n",
    "print('F1 score del modelo con ajuste por sobremuestreo:',\n",
    "      f1_score(target_ohe_valid, predicted_valid))"
   ]
  },
  {
   "cell_type": "markdown",
   "metadata": {},
   "source": [
    "**Conclusiones intermedias**\n",
    "\n",
    "Obtenemos un valor _F1_ más alto con el modelo ajustado con el parámetro `class_weight='balanced'` que con el modelo entrenado con un dataset sobremuestreado.\n",
    "\n",
    "En el siguiente paso, hallaremos el área bajo la curva ROC (AUC-ROC) del modelo con mejor valor _F1_."
   ]
  },
  {
   "cell_type": "markdown",
   "metadata": {},
   "source": [
    "### Curva AUC-ROC del modelo de regresión logística"
   ]
  },
  {
   "cell_type": "code",
   "execution_count": 26,
   "metadata": {
    "scrolled": true
   },
   "outputs": [
    {
     "data": {
      "image/png": "[encoded data removed]",
      "text/plain": [
       "<Figure size 432x288 with 1 Axes>"
      ]
     },
     "metadata": {
      "needs_background": "light"
     },
     "output_type": "display_data"
    }
   ],
   "source": [
    "probabilities_valid_model_a = model_a.predict_proba(features_ohe_valid)\n",
    "probabilities_one_valid_model_a = probabilities_valid_model_a[:, 1]\n",
    "\n",
    "# Valores TFP, valores TVP y umbrales de clasificación\n",
    "fpr, tpr, thresholds = roc_curve(target_ohe_valid, probabilities_one_valid_model_a)\n",
    "\n",
    "plt.figure()\n",
    "\n",
    "# traza la gráfica\n",
    "plt.plot(fpr, tpr) \n",
    "\n",
    "# Curva ROC para modelo aleatorio\n",
    "plt.plot([0, 1], [0, 1], linestyle='--')\n",
    "\n",
    "# Establece los límites entre 0 y 1\n",
    "plt.xlim([0.0, 1.0])\n",
    "plt.ylim([0.0, 1.0])\n",
    "\n",
    "plt.xlabel('Tasa de falsos positivos')\n",
    "plt.ylabel('Tasa de verdaderos positivos')\n",
    "\n",
    "plt.title('Curva ROC del modelo de regresión logística')\n",
    "plt.show()"
   ]
  },
  {
   "cell_type": "code",
   "execution_count": 27,
   "metadata": {},
   "outputs": [
    {
     "name": "stdout",
     "output_type": "stream",
     "text": [
      "Valor del AUC-ROC: 0.7520005627622501\n"
     ]
    }
   ],
   "source": [
    "auc_roc = roc_auc_score(target_ohe_valid, probabilities_one_valid_model_a)\n",
    "\n",
    "print('Valor del AUC-ROC:', auc_roc)"
   ]
  },
  {
   "cell_type": "markdown",
   "metadata": {},
   "source": [
    "**Conclusiones intermedias**\n",
    "\n",
    "Entrenando un modelo de regresión logística sin balanceo de clases obtenemos una elevado valor de _exactitud_ pero un valor de F1 muy bajo, lo que nos indica que la predicción de una de las clases está fallando.\n",
    "\n",
    "Sin embargo, cuando aplicamos balanceo de clases, la _exactitud_ se reduce un poco pero el valor de _F1_ aumenta considerablemente. Esto indica que es muy conveniente balancear las clases en este caso. \n",
    "\n",
    "El valor de _F1_ es mayor cuando aplicamos el balanceo de clases en el momento de instalciar el modelo, con el parámetro `class_weight`.\n",
    "\n",
    "Por otro lado, no superamos el valor _F1_ mínimo que se requiere para validar el modelo, así que descartamos este modelo."
   ]
  },
  {
   "cell_type": "markdown",
   "metadata": {},
   "source": [
    "## Árbol de decisiones\n",
    "\n",
    "El siguiente modelo a probar será uno de tipo árbol de decisiones. Al igual que en el apartado anterior, se hará una prueba con un modelo simple sin tener en cuenta el desbalance de clases y después se harán pruebas con distintos valores de los hiperparámetros para encontrar una configuración eficaz.\n",
    "\n",
    "Este modelo lo llamaremos `model_b` y de la misma forma que antes, se utilizará el prefijo `unbal_` para el modelo sin balanceo de clases."
   ]
  },
  {
   "cell_type": "markdown",
   "metadata": {},
   "source": [
    "### Modelo sin balanceo de clases"
   ]
  },
  {
   "cell_type": "code",
   "execution_count": 28,
   "metadata": {},
   "outputs": [],
   "source": [
    "# Instancia un modelo de árbol de decisiones sin balanceo de clases\n",
    "\n",
    "unbal_model_b = DecisionTreeClassifier(random_state=54321).fit(\n",
    "    features_ordinal_train, target_ordinal_train\n",
    ")"
   ]
  },
  {
   "cell_type": "code",
   "execution_count": 29,
   "metadata": {},
   "outputs": [
    {
     "name": "stdout",
     "output_type": "stream",
     "text": [
      "F1 score del modelo de árbol de decisiones en el conjunto de validación: 0.4721030042918455\n",
      "Exactitud del modelo de árbol de decisiones en el conjunto de validación: 0.7834507042253521\n"
     ]
    }
   ],
   "source": [
    "score_tree = unbal_model_b.score(features_ordinal_valid, target_ordinal_valid)\n",
    "predicted_valid_tree = unbal_model_b.predict(features_ordinal_valid)\n",
    "\n",
    "score_f1 = f1_score(target_ordinal_valid, predicted_valid_tree)\n",
    "\n",
    "print('F1 score del modelo de árbol de decisiones en el conjunto de validación:', score_f1)\n",
    "print('Exactitud del modelo de árbol de decisiones en el conjunto de validación:', score_tree)"
   ]
  },
  {
   "cell_type": "markdown",
   "metadata": {},
   "source": [
    "### Modelo con balanceo de clases"
   ]
  },
  {
   "cell_type": "code",
   "execution_count": 30,
   "metadata": {},
   "outputs": [
    {
     "name": "stdout",
     "output_type": "stream",
     "text": [
      "F1 score del mejor modelo en el conjunto de validación (depth = 5): 0.5901639344262295\n",
      "Exactitud del mejor modelo en el conjunto de validación: 0.823943661971831\n"
     ]
    }
   ],
   "source": [
    "tree_best_score = 0\n",
    "tree_best_f1score = 0\n",
    "tree_best_depth = 0\n",
    "\n",
    "# Prueba diferentes valores de profundidad del árbol de decisiones desde 1 nodo hasta 10 nodos\n",
    "for depth in range(1, 11):\n",
    "    model_b = DecisionTreeClassifier(max_depth=depth, random_state=54321, class_weight='balanced')\n",
    "    model_b.fit(features_ordinal_train, target_ordinal_train)\n",
    "    \n",
    "    score = model_b.score(features_ordinal_valid, target_ordinal_valid)\n",
    "    score_f1 = f1_score(target_ordinal_valid, model_b.predict(features_ordinal_valid))\n",
    "    \n",
    "    if score_f1 > tree_best_f1score:\n",
    "        tree_best_score = score\n",
    "        tree_best_f1score = score_f1\n",
    "        tree_best_depth = depth\n",
    "\n",
    "\n",
    "print(\"F1 score del mejor modelo en el conjunto de validación (depth = {}): {}\".format(\n",
    "    tree_best_depth, tree_best_f1score))\n",
    "print('Exactitud del mejor modelo en el conjunto de validación:', tree_best_score)"
   ]
  },
  {
   "cell_type": "markdown",
   "metadata": {},
   "source": [
    "#### Ajuste por sobremuestreo\n",
    "\n",
    "Del mismo modo que con el modelo de regresión logística, probamos el segundo enfoque realizando un sobremuestreo de la clase 1 y comprobando como afecta al valor _F1_ en un modelo basado en árboles de decisión.\n",
    "\n",
    "Reutilizamos la función `upsample` que definimos en el apartado del modelo de regresión logística."
   ]
  },
  {
   "cell_type": "code",
   "execution_count": 32,
   "metadata": {},
   "outputs": [
    {
     "name": "stdout",
     "output_type": "stream",
     "text": [
      "F1 score del modelo con ajuste por sobremuestreo: 0.45109321058688145\n"
     ]
    }
   ],
   "source": [
    "# Utiliza la función upsample\n",
    "\n",
    "features_upsampled, target_upsampled = upsample(\n",
    "    features_ordinal_train, target_ordinal_train, 10\n",
    ")\n",
    "\n",
    "# Entrena un modelo con sobremuestreo\n",
    "\n",
    "model_b_upsamp = DecisionTreeClassifier(random_state=54321, max_depth=5)\n",
    "model_b_upsamp.fit(features_upsampled, target_upsampled)\n",
    "\n",
    "predicted_valid = model_b_upsamp.predict(features_ordinal_valid)\n",
    "\n",
    "print('F1 score del modelo con ajuste por sobremuestreo:',\n",
    "      f1_score(target_ordinal_valid, predicted_valid))"
   ]
  },
  {
   "cell_type": "markdown",
   "metadata": {},
   "source": [
    "**Conclusiones intermedias**\n",
    "\n",
    "A diferencia que con un modelo de regresión logística, el valor _F1_ del modelo sin balanceo de clases es cercano a 0.5, pero al aplicar el balanceo, éste mejora bastante.\n",
    "\n",
    "Se observa que hacer un sobremuestreo de la clase con menos ocurrencias no mejora la calidad del modelo, ya sea un modelo de regresión logística o basado en árboles de decisión. De hecho empeora la calidad de un modelo de árbol de decisiones.\n",
    "\n",
    "Sin embargo, utilizando el parámetro `class_weight='balanced'` en el modelo de árbol mejora bastante la calidad del modelo aportando un valor de _F1_ de 0.58. Por otro lado, este valor sigue sin superar el umbral requerido para este proyecto."
   ]
  },
  {
   "cell_type": "markdown",
   "metadata": {},
   "source": [
    "### Curva AUC-ROC del modelo de árbol de decisiones"
   ]
  },
  {
   "cell_type": "code",
   "execution_count": 33,
   "metadata": {},
   "outputs": [
    {
     "data": {
      "image/png": "[encoded data removed]",
      "text/plain": [
       "<Figure size 432x288 with 1 Axes>"
      ]
     },
     "metadata": {
      "needs_background": "light"
     },
     "output_type": "display_data"
    },
    {
     "name": "stdout",
     "output_type": "stream",
     "text": [
      "Valor de AUC-ROC: 0.7568676444497013\n"
     ]
    }
   ],
   "source": [
    "probabilities_valid_model_b = model_b.predict_proba(features_ordinal_valid)\n",
    "probabilities_one_valid_model_b = probabilities_valid_model_b[:, 1]\n",
    "\n",
    "# Valor del área bajo la curva ROC\n",
    "auc_roc = roc_auc_score(target_ordinal_valid, probabilities_one_valid_model_b)\n",
    "\n",
    "# Valores TFP, valores TVP y umbrales de clasificación\n",
    "fpr, tpr, thresholds = roc_curve(target_ordinal_valid, probabilities_one_valid_model_b)\n",
    "\n",
    "plt.figure()\n",
    "\n",
    "# traza la gráfica\n",
    "plt.plot(fpr, tpr) \n",
    "\n",
    "# Curva ROC para modelo aleatorio\n",
    "plt.plot([0, 1], [0, 1], linestyle='--')\n",
    "\n",
    "# Establece los límites entre 0 y 1\n",
    "plt.xlim([0.0, 1.0])\n",
    "plt.ylim([0.0, 1.0])\n",
    "\n",
    "plt.xlabel('Tasa de falsos positivos')\n",
    "plt.ylabel('Tasa de verdaderos positivos')\n",
    "\n",
    "plt.title('Curva ROC del modelo de árbol de decisiones')\n",
    "plt.show()\n",
    "\n",
    "\n",
    "print('Valor de AUC-ROC:', auc_roc)"
   ]
  },
  {
   "cell_type": "markdown",
   "metadata": {},
   "source": [
    "**Conclusiones intermedias**\n",
    "\n",
    "En la curva ROC se puede observar que a partir de cierto umbral, los valores de TVP y TFP se relacionan de manera lineal, lo cual no implica una buena calidad del modelo."
   ]
  },
  {
   "cell_type": "markdown",
   "metadata": {},
   "source": [
    "## Bosque aleatorio\n",
    "\n",
    "Como tercera opción, se probará otro modelo basado en árboles de decisión: el modelo de bosque aleatorio.\n",
    "\n",
    "Repetimos el mismo procedimiento que en los dos casos anteriores: Primero se entrenará un modelo sin tener en cuenta el desequilibrio de clases, y después se corregirá este desequilibrio.\n",
    "\n",
    "Para este caso, no se probará a entrenar un modelo con sobremuestreo de la clase positiva, ya que se ha observado que no mejora la calidad del modelo.\n",
    "\n",
    "Llamaremos `model_c` a este modelo."
   ]
  },
  {
   "cell_type": "markdown",
   "metadata": {},
   "source": [
    "### Modelo sin balanceo de clases"
   ]
  },
  {
   "cell_type": "code",
   "execution_count": 34,
   "metadata": {},
   "outputs": [],
   "source": [
    "# Entrena un modelo sin balanceo de clases\n",
    "\n",
    "unbal_model_c = RandomForestClassifier(random_state=54321).fit(\n",
    "    features_ordinal_train, target_ordinal_train\n",
    ")"
   ]
  },
  {
   "cell_type": "code",
   "execution_count": 35,
   "metadata": {},
   "outputs": [
    {
     "name": "stdout",
     "output_type": "stream",
     "text": [
      "F1 score del modelo de bosque aleatorio en el conjunto de validación: 0.5449438202247191\n",
      "Exactitud del modelo de bosque aleatorio en el conjunto de validación: 0.8573943661971831\n"
     ]
    }
   ],
   "source": [
    "score_forest = unbal_model_c.score(features_ordinal_valid, target_ordinal_valid)\n",
    "predicted_valid_forest = unbal_model_c.predict(features_ordinal_valid)\n",
    "\n",
    "score_f1 = f1_score(target_ordinal_valid, predicted_valid_forest)\n",
    "\n",
    "print('F1 score del modelo de bosque aleatorio en el conjunto de validación:', score_f1)\n",
    "print('Exactitud del modelo de bosque aleatorio en el conjunto de validación:', score_forest)"
   ]
  },
  {
   "cell_type": "markdown",
   "metadata": {},
   "source": [
    "### Modelo con balanceo de clases"
   ]
  },
  {
   "cell_type": "code",
   "execution_count": 36,
   "metadata": {},
   "outputs": [
    {
     "name": "stdout",
     "output_type": "stream",
     "text": [
      "F1 score del mejor modelo en el conjunto de validación (n_estimators = 20 y depth = 8): 0.6069246435845215\n",
      "Exactitud del mejor modelo en el conjunto de validación: 0.8301056338028169\n"
     ]
    }
   ],
   "source": [
    "forest_best_score = 0\n",
    "forest_best_f1score = 0\n",
    "forest_best_depth = 0\n",
    "forest_best_est = 0\n",
    "\n",
    "# Prueba distintos valores de número de estimadores desde 10 hasta 50 en intervalos de 10\n",
    "for est in range(10, 101, 10):\n",
    "    for depth in range (1, 11): # Prueba distintos valores de profundidad de cada árbol individual\n",
    "        model_c = RandomForestClassifier(max_depth=depth, n_estimators=est,\n",
    "            random_state=12345, class_weight='balanced')\n",
    "        model_c.fit(features_ordinal_train, target_ordinal_train)\n",
    "        \n",
    "        score = model_c.score(features_ordinal_valid, target_ordinal_valid)\n",
    "        score_f1 = f1_score(target_ordinal_valid, model_c.predict(features_ordinal_valid))\n",
    "        \n",
    "        if score_f1 > forest_best_f1score:\n",
    "            forest_best_score = score\n",
    "            forest_best_f1score = score_f1\n",
    "            forest_best_depth = depth\n",
    "            forest_best_est = est\n",
    "            \n",
    "print(\"F1 score del mejor modelo en el conjunto de validación (n_estimators = {} y depth = {}): {}\".format(\n",
    "    forest_best_est, forest_best_depth, forest_best_f1score))\n",
    "print('Exactitud del mejor modelo en el conjunto de validación:', forest_best_score)"
   ]
  },
  {
   "cell_type": "markdown",
   "metadata": {},
   "source": [
    "**Conclusiones intermedias**\n",
    "\n",
    "Obtuvimos una configuración de hiperparámetros óptima con un número de estimadores de 90 y una profundidad máxima del arbol de 9 nodos.\n",
    "\n",
    "En este modelo obtenemos un valor _F1_ por encima de 0.5 aún sin tener en cuenta el balanceo de clases, pero aplicandole el parámetro `class_weight='balanced'` conseguimos una mejora en este valor. Dicha mejora supera el umbral requerido.\n",
    "\n",
    "Por otro lado se pierde un poco de exactitud al aplicar el balanceo de clases."
   ]
  },
  {
   "cell_type": "markdown",
   "metadata": {},
   "source": [
    "### Curva AUC-ROC del modelo de bosque aleatorio"
   ]
  },
  {
   "cell_type": "code",
   "execution_count": 37,
   "metadata": {},
   "outputs": [
    {
     "data": {
      "image/png": "[encoded data removed]",
      "text/plain": [
       "<Figure size 432x288 with 1 Axes>"
      ]
     },
     "metadata": {
      "needs_background": "light"
     },
     "output_type": "display_data"
    },
    {
     "name": "stdout",
     "output_type": "stream",
     "text": [
      "Valor de AUC-ROC: 0.8468419185049382\n"
     ]
    }
   ],
   "source": [
    "probabilities_valid_model_c = model_c.predict_proba(features_ordinal_valid)\n",
    "probabilities_one_valid_model_c = probabilities_valid_model_c[:, 1]\n",
    "\n",
    "# Valor del área bajo la curva ROC\n",
    "auc_roc = roc_auc_score(target_ordinal_valid, probabilities_one_valid_model_c)\n",
    "\n",
    "# Valores TFP, valores TVP y umbrales de clasificación\n",
    "fpr, tpr, thresholds = roc_curve(target_ordinal_valid, probabilities_one_valid_model_c)\n",
    "\n",
    "plt.figure()\n",
    "\n",
    "# traza la gráfica\n",
    "plt.plot(fpr, tpr) \n",
    "\n",
    "# Curva ROC para modelo aleatorio\n",
    "plt.plot([0, 1], [0, 1], linestyle='--')\n",
    "\n",
    "# Establece los límites entre 0 y 1\n",
    "plt.xlim([0.0, 1.0])\n",
    "plt.ylim([0.0, 1.0])\n",
    "\n",
    "plt.xlabel('Tasa de falsos positivos')\n",
    "plt.ylabel('Tasa de verdaderos positivos')\n",
    "\n",
    "plt.title('Curva ROC del modelo de bosque aleatorio')\n",
    "plt.show()\n",
    "\n",
    "\n",
    "print('Valor de AUC-ROC:', auc_roc)"
   ]
  },
  {
   "cell_type": "markdown",
   "metadata": {},
   "source": [
    "**Conclusiones intermedias**\n",
    "\n",
    "Con este modelo obtenemos un valor AUC-ROC bastante mayor y no muy alejado de un valor perfecto (AUC-ROC = 1), además de una curva más pronunciada que con los otros modelos. \n",
    "Es el mejor resultado de todos los obtenidos."
   ]
  },
  {
   "cell_type": "markdown",
   "metadata": {},
   "source": [
    "# Comprobar la calidad del modelo\n",
    "\n",
    "Tras probar diferentes modelos, se ha podido comprobar que el modelo que mejores resultados arrojó fue el `model_c` que se corresponde con el modelo de tipo bosque aleatorio. Este modelo obtuvo un valor _F1_ de 0.61 y un valor AUC-ROC de 0.84."
   ]
  },
  {
   "cell_type": "markdown",
   "metadata": {},
   "source": [
    "El siguiente paso es comprobar el desempeño del modelo `model_c` (bosque aleatorio) con el conjunto de datos de prueba (`features_ordinal_test`). Guardaremos el resultado de las predicciones en `predictions_test` y comprobaremos tanto el valor de _F1_ como el valor de AUC-ROC."
   ]
  },
  {
   "cell_type": "code",
   "execution_count": 38,
   "metadata": {},
   "outputs": [
    {
     "name": "stdout",
     "output_type": "stream",
     "text": [
      "F1 del modelo de bosque aleatorio con el dataset de prueba: 0.598825831702544\n",
      "Accuracy del modelo de bosque aleatorio con el dataset de prueba: 0.8197009674582234\n"
     ]
    }
   ],
   "source": [
    "# Prueba de calidad con el conjunto de prueba\n",
    "\n",
    "predictions_test = model_c.predict(features_ordinal_test)\n",
    "final_f1 = f1_score(target_ordinal_test, predictions_test)\n",
    "final_accuracy = accuracy_score(target_ordinal_test, predictions_test)\n",
    "\n",
    "print('F1 del modelo de bosque aleatorio con el dataset de prueba:', final_f1)\n",
    "print('Accuracy del modelo de bosque aleatorio con el dataset de prueba:', final_accuracy)"
   ]
  },
  {
   "cell_type": "code",
   "execution_count": 39,
   "metadata": {},
   "outputs": [
    {
     "name": "stdout",
     "output_type": "stream",
     "text": [
      "Valor de AUC-ROC: 0.8522148742980109\n"
     ]
    }
   ],
   "source": [
    "probabilities_valid_model_c = model_c.predict_proba(features_ordinal_test)\n",
    "probabilities_one_valid_model_c = probabilities_valid_model_c[:, 1]\n",
    "\n",
    "# Valor del área bajo la curva ROC\n",
    "auc_roc = roc_auc_score(target_ordinal_test, probabilities_one_valid_model_c)\n",
    "\n",
    "print('Valor de AUC-ROC:', auc_roc)"
   ]
  },
  {
   "cell_type": "markdown",
   "metadata": {},
   "source": [
    "El modelo elegido ha obtenido un valor _F1_ de 0.60 y un AUC-ROC de 0.85 sobre el conjunto de datos de prueba, manteniendo una puntuación similar a la prueba con el conjunto de validación."
   ]
  },
  {
   "cell_type": "markdown",
   "metadata": {},
   "source": [
    "## Prueba de cordura del modelo\n",
    "\n",
    "Realizamos la prueba de cordura al modelo para comprobar que nuestro modelo realiza las predicciones correctamente. Crearemos un modelo _dummy_ que prediga de forma aleatoria la clasificación del objetivo `Exited` y obtendremos el valor _F1_ y el _accuracy_ de este modelo."
   ]
  },
  {
   "cell_type": "code",
   "execution_count": 40,
   "metadata": {},
   "outputs": [
    {
     "name": "stdout",
     "output_type": "stream",
     "text": [
      "F1 de un modelo simple con clasificaciones al azar: 0.326530612244898\n",
      "Accuracy del modelo simple: 0.5065963060686016\n"
     ]
    }
   ],
   "source": [
    "# Inicia el objeto defaul_rng con la seed '54321'\n",
    "dummy_model = default_rng(54321) \n",
    "\n",
    "# Crea un conjunto de clasificaciones de forma aleatoria con la misma longitud que nuestro test set\n",
    "dummy_set = dummy_model.choice([0,1], len(target_ordinal_test))\n",
    "\n",
    "print('F1 de un modelo simple con clasificaciones al azar:', f1_score(target_ordinal_test, dummy_set))\n",
    "print('Accuracy del modelo simple:', accuracy_score(target_ordinal_test, dummy_set))"
   ]
  },
  {
   "cell_type": "markdown",
   "metadata": {},
   "source": [
    "El modelo _dummy_ ha obtenido un _accuracy_ del 50% (valor esperado) y un valor de _F1_ de 0.32 frente al _F1_ de 0.60 y _accuracy_ del 81%. Podemos decir que el modelo ha pasado la prueba de cordura."
   ]
  },
  {
   "cell_type": "markdown",
   "metadata": {},
   "source": [
    "# Conclusiones generales\n",
    "\n",
    "Finalmente, se enumeran las conclusiones obtenidas durante el desarrollo del proyecto:\n",
    "   \n",
    "   1. De los 3 modelos que se han probado, el modelo que mejores resultados obtuvo según las métricas utilizadas fue el modelo de tipo bosque aleatorio, con una configuración de hiperparámetros de `n_estimators` en 90 y `max_depth` en 9. \n",
    "   2. El desequilibrio de clases afectaba a la calidad del modelo. Fue el parámetro de `class_weight` del modelo el enfoque que mejor calidad aportaba al modelo. \n",
    "   3. El valor _F1_ del modelo de bosque aleatorio sobre el conjunto de datos de prueba es de 0.60 y el valor de AUC-ROC es de 0.85.\n",
    "   4. El modelo entrenado supera en puntuación a un modelo simple en la prueba de cordura."
   ]
  }
 ],
 "metadata": {
  "kernelspec": {
   "display_name": "Python 3 (ipykernel)",
   "language": "python",
   "name": "python3"
  },
  "language_info": {
   "codemirror_mode": {
    "name": "ipython",
    "version": 3
   },
   "file_extension": ".py",
   "mimetype": "text/x-python",
   "name": "python",
   "nbconvert_exporter": "python",
   "pygments_lexer": "ipython3",
   "version": "3.9.12"
  },
  "toc": {
   "base_numbering": 1,
   "nav_menu": {},
   "number_sections": false,
   "sideBar": true,
   "skip_h1_title": false,
   "title_cell": "Tabla de Contenidos",
   "title_sidebar": "Contenidos",
   "toc_cell": true,
   "toc_position": {
    "height": "calc(100% - 180px)",
    "left": "10px",
    "top": "150px",
    "width": "200.312px"
   },
   "toc_section_display": true,
   "toc_window_display": false
  }
 },
 "nbformat": 4,
 "nbformat_minor": 2
}
